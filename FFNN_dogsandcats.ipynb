{
 "cells": [
  {
   "cell_type": "code",
   "execution_count": 43,
   "id": "d6885831",
   "metadata": {},
   "outputs": [],
   "source": [
    "from keras.models import Sequential\n",
    "from keras.layers import Dense , Flatten , Dropout\n",
    "from keras.callbacks import EarlyStopping\n",
    "from sklearn.model_selection import train_test_split\n",
    "import os"
   ]
  },
  {
   "cell_type": "code",
   "execution_count": 4,
   "id": "cab3c67a",
   "metadata": {},
   "outputs": [],
   "source": [
    "import numpy as np\n",
    "import random\n",
    "import cv2\n",
    "from sklearn.preprocessing import LabelEncoder"
   ]
  },
  {
   "cell_type": "code",
   "execution_count": 5,
   "id": "e6fd638f",
   "metadata": {},
   "outputs": [],
   "source": [
    "path=r\"C:\\Users\\abhin\\ML Lab\\CNN\\archive\\kagglecatsanddogs_3367a\\PetImages\"\n",
    "categories=os.listdir(path)\n",
    "data=[]\n",
    "for cat in categories:\n",
    "    temp_path=os.path.join(path,cat)\n",
    "    for i in os.listdir(temp_path)[:100]:\n",
    "        arr=cv2.imread(os.path.join(temp_path,i))\n",
    "        arr=cv2.resize(arr,(200,200))\n",
    "        data.append([arr,cat])\n",
    "random.shuffle(data)"
   ]
  },
  {
   "cell_type": "code",
   "execution_count": 6,
   "id": "4876e738",
   "metadata": {},
   "outputs": [],
   "source": [
    "x=np.array([i[0] for i in data])\n",
    "y=[i[1] for i in data]\n",
    "x=x.reshape(-1,200,200,3)\n",
    "x=x.astype(\"float32\")"
   ]
  },
  {
   "cell_type": "code",
   "execution_count": 7,
   "id": "39307b52",
   "metadata": {},
   "outputs": [],
   "source": [
    "\n",
    "le=LabelEncoder()\n",
    "y=le.fit_transform(y)\n",
    "y=np.array(y)"
   ]
  },
  {
   "cell_type": "code",
   "execution_count": 8,
   "id": "a0612024",
   "metadata": {},
   "outputs": [],
   "source": [
    "x_train,x_test,y_train,y_test=train_test_split(x,np.array(y),test_size=0.2)"
   ]
  },
  {
   "cell_type": "code",
   "execution_count": 163,
   "id": "b4846a56",
   "metadata": {},
   "outputs": [
    {
     "name": "stdout",
     "output_type": "stream",
     "text": [
      "100\n"
     ]
    }
   ],
   "source": [
    "print(len(x))"
   ]
  },
  {
   "cell_type": "code",
   "execution_count": 11,
   "id": "634079ea",
   "metadata": {},
   "outputs": [],
   "source": [
    "callback=EarlyStopping(monitor=\"loss\",patience=3)"
   ]
  },
  {
   "cell_type": "code",
   "execution_count": 57,
   "id": "368686c8",
   "metadata": {},
   "outputs": [
    {
     "name": "stdout",
     "output_type": "stream",
     "text": [
      "Epoch 1/10\n",
      "3/3 [==============================] - 1s 36ms/step - loss: 2811.2185 - accuracy: 0.4625\n",
      "Epoch 2/10\n",
      "3/3 [==============================] - 0s 37ms/step - loss: 2677.7266 - accuracy: 0.4500\n",
      "Epoch 3/10\n",
      "3/3 [==============================] - 0s 36ms/step - loss: 2527.6187 - accuracy: 0.5125\n",
      "Epoch 4/10\n",
      "3/3 [==============================] - 0s 38ms/step - loss: 2314.8364 - accuracy: 0.4000\n",
      "Epoch 5/10\n",
      "3/3 [==============================] - 0s 36ms/step - loss: 1266.6335 - accuracy: 0.5625\n",
      "Epoch 6/10\n",
      "3/3 [==============================] - 0s 36ms/step - loss: 892.8121 - accuracy: 0.5625\n",
      "Epoch 7/10\n",
      "3/3 [==============================] - 0s 36ms/step - loss: 1054.9432 - accuracy: 0.4875\n",
      "Epoch 8/10\n",
      "3/3 [==============================] - 0s 38ms/step - loss: 720.1783 - accuracy: 0.5625\n",
      "Epoch 9/10\n",
      "3/3 [==============================] - 0s 37ms/step - loss: 496.7046 - accuracy: 0.5625\n",
      "Epoch 10/10\n",
      "3/3 [==============================] - 0s 36ms/step - loss: 213.2487 - accuracy: 0.5125\n"
     ]
    },
    {
     "data": {
      "text/plain": [
       "[184.5908966064453, 0.44999998807907104]"
      ]
     },
     "execution_count": 57,
     "metadata": {},
     "output_type": "execute_result"
    }
   ],
   "source": [
    "model=Sequential()\n",
    "model.add(Flatten(input_shape=(200,200,3)))\n",
    "model.add(Dense(64,activation=\"relu\"))\n",
    "model.add(Dropout(0.5))\n",
    "model.add(Dense(32,activation=\"relu\",kernel_regularizer=\"l2\"))\n",
    "model.add(Dense(1,activation=\"sigmoid\"))\n",
    "model.compile(optimizer=\"adam\",loss=\"binary_crossentropy\",metrics=[\"accuracy\"])\n",
    "history=model.fit(x_train,y_train,epochs=10,callbacks=[callback])\n",
    "model.evaluate(x_test,y_test,batch_size=32,verbose=0)\n"
   ]
  },
  {
   "cell_type": "code",
   "execution_count": 56,
   "id": "7a98c8fb",
   "metadata": {},
   "outputs": [
    {
     "data": {
      "text/plain": [
       "[<matplotlib.lines.Line2D at 0x142922e4700>]"
      ]
     },
     "execution_count": 56,
     "metadata": {},
     "output_type": "execute_result"
    },
    {
     "data": {
      "image/png": "[encoded data removed]",
      "text/plain": [
       "<Figure size 640x480 with 1 Axes>"
      ]
     },
     "metadata": {},
     "output_type": "display_data"
    }
   ],
   "source": [
    "plt.plot(history.history[\"accuracy\"])"
   ]
  },
  {
   "cell_type": "code",
   "execution_count": 22,
   "id": "1fb372bb",
   "metadata": {},
   "outputs": [],
   "source": [
    "import matplotlib.pyplot as plt"
   ]
  },
  {
   "cell_type": "code",
   "execution_count": 52,
   "id": "61ec77cf",
   "metadata": {},
   "outputs": [
    {
     "name": "stdout",
     "output_type": "stream",
     "text": [
      "              precision    recall  f1-score   support\n",
      "\n",
      "           0       0.00      0.00      0.00         9\n",
      "           1       0.55      1.00      0.71        11\n",
      "\n",
      "    accuracy                           0.55        20\n",
      "   macro avg       0.28      0.50      0.35        20\n",
      "weighted avg       0.30      0.55      0.39        20\n",
      "\n"
     ]
    },
    {
     "name": "stderr",
     "output_type": "stream",
     "text": [
      "D:\\PYTHON\\Anaconda\\lib\\site-packages\\sklearn\\metrics\\_classification.py:1344: UndefinedMetricWarning: Precision and F-score are ill-defined and being set to 0.0 in labels with no predicted samples. Use `zero_division` parameter to control this behavior.\n",
      "  _warn_prf(average, modifier, msg_start, len(result))\n",
      "D:\\PYTHON\\Anaconda\\lib\\site-packages\\sklearn\\metrics\\_classification.py:1344: UndefinedMetricWarning: Precision and F-score are ill-defined and being set to 0.0 in labels with no predicted samples. Use `zero_division` parameter to control this behavior.\n",
      "  _warn_prf(average, modifier, msg_start, len(result))\n",
      "D:\\PYTHON\\Anaconda\\lib\\site-packages\\sklearn\\metrics\\_classification.py:1344: UndefinedMetricWarning: Precision and F-score are ill-defined and being set to 0.0 in labels with no predicted samples. Use `zero_division` parameter to control this behavior.\n",
      "  _warn_prf(average, modifier, msg_start, len(result))\n"
     ]
    }
   ],
   "source": [
    "from sklearn.metrics import classification_report \n",
    "print(classification_report(y_pred=preds,y_true=y_test))"
   ]
  },
  {
   "cell_type": "code",
   "execution_count": 67,
   "id": "58eb809d",
   "metadata": {},
   "outputs": [
    {
     "name": "stdout",
     "output_type": "stream",
     "text": [
      "Enter the Path of the imageC:\\Users\\abhin\\ML Lab\\CNN\\archive\\kagglecatsanddogs_3367a\\PetImages\\Dog\\88.jpg\n"
     ]
    },
    {
     "ename": "error",
     "evalue": "OpenCV(4.9.0) :-1: error: (-5:Bad argument) in function 'imshow'\n> Overload resolution failed:\n>  - imshow() missing required argument 'mat' (pos 2)\n>  - imshow() missing required argument 'mat' (pos 2)\n>  - imshow() missing required argument 'mat' (pos 2)\n",
     "output_type": "error",
     "traceback": [
      "\u001b[1;31m---------------------------------------------------------------------------\u001b[0m",
      "\u001b[1;31merror\u001b[0m                                     Traceback (most recent call last)",
      "Cell \u001b[1;32mIn[67], line 6\u001b[0m\n\u001b[0;32m      4\u001b[0m x_pred\u001b[38;5;241m=\u001b[39mnp\u001b[38;5;241m.\u001b[39marray(img_arr)\u001b[38;5;241m.\u001b[39mreshape(\u001b[38;5;241m-\u001b[39m\u001b[38;5;241m1\u001b[39m,\u001b[38;5;241m200\u001b[39m,\u001b[38;5;241m200\u001b[39m,\u001b[38;5;241m3\u001b[39m)\u001b[38;5;241m.\u001b[39mastype(\u001b[38;5;124m\"\u001b[39m\u001b[38;5;124mfloat32\u001b[39m\u001b[38;5;124m\"\u001b[39m)\n\u001b[0;32m      5\u001b[0m preds\u001b[38;5;241m=\u001b[39mmodel\u001b[38;5;241m.\u001b[39mpredict(x_pred)\n\u001b[1;32m----> 6\u001b[0m \u001b[43mcv2\u001b[49m\u001b[38;5;241;43m.\u001b[39;49m\u001b[43mimshow\u001b[49m\u001b[43m(\u001b[49m\u001b[43mimg_arr\u001b[49m\u001b[43m)\u001b[49m\n\u001b[0;32m      7\u001b[0m \u001b[38;5;28mprint\u001b[39m(preds)\n",
      "\u001b[1;31merror\u001b[0m: OpenCV(4.9.0) :-1: error: (-5:Bad argument) in function 'imshow'\n> Overload resolution failed:\n>  - imshow() missing required argument 'mat' (pos 2)\n>  - imshow() missing required argument 'mat' (pos 2)\n>  - imshow() missing required argument 'mat' (pos 2)\n"
     ]
    }
   ],
   "source": [
    "path=input(\"Enter the Path of the image\")\n",
    "img_arr=cv2.imread(path)\n",
    "img_arr=cv2.resize(img_arr,(200,200))\n",
    "x_pred=np.array(img_arr).reshape(-1,200,200,3).astype(\"float32\")\n",
    "preds=model.predict(x_pred)\n",
    "cv2.imshow(img_arr)\n",
    "print(preds)"
   ]
  }
 ],
 "metadata": {
  "kernelspec": {
   "display_name": "Python 3 (ipykernel)",
   "language": "python",
   "name": "python3"
  },
  "language_info": {
   "codemirror_mode": {
    "name": "ipython",
    "version": 3
   },
   "file_extension": ".py",
   "mimetype": "text/x-python",
   "name": "python",
   "nbconvert_exporter": "python",
   "pygments_lexer": "ipython3",
   "version": "3.10.9"
  }
 },
 "nbformat": 4,
 "nbformat_minor": 5
}
