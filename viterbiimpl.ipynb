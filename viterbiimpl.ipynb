{
 "cells": [
  {
   "cell_type": "markdown",
   "id": "f74232aa",
   "metadata": {},
   "source": [
    "# Implemented For the States HOT,COLD and Observ states : 1,2,3"
   ]
  },
  {
   "cell_type": "code",
   "execution_count": 33,
   "id": "d2ddf99f",
   "metadata": {},
   "outputs": [
    {
     "name": "stdout",
     "output_type": "stream",
     "text": [
      "[[0.16     0.0448   0.006272]\n",
      " [0.1      0.006    0.00672 ]]\n",
      "[0, 0, 1]\n"
     ]
    }
   ],
   "source": [
    "def viterbi(obs,emiss,trans_prob,start_prob,states):\n",
    "    T=len(obs)\n",
    "    N=len(states)\n",
    "    \n",
    "    viterbi=np.zeros((N,T))\n",
    "    \n",
    "    for s in range(N):\n",
    "        viterbi[s,0] = start_prob[s]*emiss[s,obs[0]]\n",
    "        \n",
    "    for t in range(1,T):\n",
    "        for s in range(N):\n",
    "            trans_probs=viterbi[:,t-1]*trans_prob[:,s]\n",
    "            viterbi[s,t] = np.max(trans_probs)*emiss[s,obs[t]]\n",
    "    return viterbi\n",
    "obs = [0, 2, 0] \n",
    "states = [0, 1]  \n",
    "start_prob = np.array([0.8, 0.2])  \n",
    "trans_prob = np.array([[0.7, 0.3],\n",
    "                       [0.4, 0.6]])  \n",
    "emit_prob = np.array([[0.2, 0.4, 0.4],\n",
    "                      [0.5, 0.4, 0.1]])  # Emission probabilities\n",
    "final_dim=viterbi(obs,emit_prob,trans_prob,start_prob,states)\n",
    "print(final_dim)\n",
    "x=list(final_dim)\n",
    "path=[]\n",
    "for i in range(len(obs)):\n",
    "    maxi=[]\n",
    "    for j in range(len(states)):\n",
    "            maxi.append(x[j][i])\n",
    "    path.append(maxi.index(max(maxi)))\n",
    "    \n",
    "print(path)"
   ]
  },
  {
   "cell_type": "code",
   "execution_count": null,
   "id": "b5820f1d",
   "metadata": {},
   "outputs": [],
   "source": []
  },
  {
   "cell_type": "code",
   "execution_count": 32,
   "id": "6791582b",
   "metadata": {},
   "outputs": [
    {
     "name": "stdout",
     "output_type": "stream",
     "text": [
      "[0, 0, 1]\n"
     ]
    }
   ],
   "source": [
    "x=list(k)\n"
   ]
  }
 ],
 "metadata": {
  "kernelspec": {
   "display_name": "Python 3 (ipykernel)",
   "language": "python",
   "name": "python3"
  },
  "language_info": {
   "codemirror_mode": {
    "name": "ipython",
    "version": 3
   },
   "file_extension": ".py",
   "mimetype": "text/x-python",
   "name": "python",
   "nbconvert_exporter": "python",
   "pygments_lexer": "ipython3",
   "version": "3.10.9"
  }
 },
 "nbformat": 4,
 "nbformat_minor": 5
}
