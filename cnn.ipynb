{
 "cells": [
  {
   "cell_type": "code",
   "execution_count": 45,
   "id": "62cd9ef5",
   "metadata": {},
   "outputs": [],
   "source": [
    "import keras\n",
    "from keras.models import Sequential\n",
    "from keras.layers import Dense,Conv2D,Dropout,Activation,Flatten\n",
    "import keras.optimizers"
   ]
  },
  {
   "cell_type": "code",
   "execution_count": 22,
   "id": "7e7ad980",
   "metadata": {},
   "outputs": [],
   "source": [
    "from sklearn.utils import shuffle\n",
    "import random"
   ]
  },
  {
   "cell_type": "code",
   "execution_count": 18,
   "id": "2b4d9a7a",
   "metadata": {},
   "outputs": [],
   "source": [
    "import cv2"
   ]
  },
  {
   "cell_type": "code",
   "execution_count": 40,
   "id": "100867d9",
   "metadata": {},
   "outputs": [],
   "source": [
    "import numpy as np\n",
    "import os\n",
    "from sklearn.model_selection import train_test_split"
   ]
  },
  {
   "cell_type": "code",
   "execution_count": 42,
   "id": "0265031a",
   "metadata": {},
   "outputs": [],
   "source": [
    "from keras.layers import MaxPooling2D"
   ]
  },
  {
   "cell_type": "code",
   "execution_count": 16,
   "id": "e9a00e91",
   "metadata": {},
   "outputs": [],
   "source": [
    "categories=os.listdir(r\"C:\\Users\\abhin\\ML Lab\\CNN\\archive\\kagglecatsanddogs_3367a\\PetImages\")"
   ]
  },
  {
   "cell_type": "code",
   "execution_count": 20,
   "id": "928ad36a",
   "metadata": {},
   "outputs": [],
   "source": [
    "path=r\"C:\\Users\\abhin\\ML Lab\\CNN\\archive\\kagglecatsanddogs_3367a\\PetImages\""
   ]
  },
  {
   "cell_type": "code",
   "execution_count": 59,
   "id": "9e5e03ec",
   "metadata": {},
   "outputs": [],
   "source": [
    "training=[]\n",
    "for cat in categories:\n",
    "    new_path=os.path.join(path,cat)\n",
    "    class_id=categories.index(cat)\n",
    "    for img in os.listdir(new_path)[:20]:\n",
    "        img_array=cv2.imread(os.path.join(new_path,img))\n",
    "        img_array=cv2.resize(img_array,(200,200))\n",
    "        training.append([img_array,class_id])      "
   ]
  },
  {
   "cell_type": "code",
   "execution_count": 36,
   "id": "fb6c63d3",
   "metadata": {},
   "outputs": [],
   "source": [
    "random.shuffle(training)"
   ]
  },
  {
   "cell_type": "code",
   "execution_count": 65,
   "id": "604a15c1",
   "metadata": {},
   "outputs": [],
   "source": [
    "x=[]\n",
    "y=[]\n",
    "for features , label in training:\n",
    "    x.append(features)\n",
    "    y.append(label)\n",
    "x=np.array(x).reshape(-1,200,200,3)  \n",
    "x=x.astype(\"float32\")"
   ]
  },
  {
   "cell_type": "code",
   "execution_count": 66,
   "id": "0e358203",
   "metadata": {},
   "outputs": [],
   "source": [
    "x_train,x_test,y_train,y_test = train_test_split(x,np.array(y),test_size=0.2)"
   ]
  },
  {
   "cell_type": "code",
   "execution_count": 88,
   "id": "2c397316",
   "metadata": {},
   "outputs": [
    {
     "data": {
      "text/plain": [
       "(40, 200, 200, 3)"
      ]
     },
     "execution_count": 88,
     "metadata": {},
     "output_type": "execute_result"
    }
   ],
   "source": [
    "x.shape"
   ]
  },
  {
   "cell_type": "code",
   "execution_count": 77,
   "id": "2e260f66",
   "metadata": {},
   "outputs": [],
   "source": [
    "model=Sequential()\n",
    "model.add(Conv2D(32,(3,3),padding=\"same\",strides=1,activation=\"relu\"))\n",
    "model.add(MaxPooling2D((2,2),strides=1))\n",
    "model.add(Dropout(0.5))\n",
    "model.add(Flatten())\n",
    "model.add(Dense(64,activation=\"relu\"))\n",
    "model.add(Dense(1,activation=\"softmax\"))"
   ]
  },
  {
   "cell_type": "code",
   "execution_count": 79,
   "id": "1d9164be",
   "metadata": {},
   "outputs": [],
   "source": [
    "model.compile(optimizer=\"adam\",loss=\"binary_crossentropy\")"
   ]
  },
  {
   "cell_type": "code",
   "execution_count": 68,
   "id": "20aac0bd",
   "metadata": {},
   "outputs": [
    {
     "data": {
      "text/plain": [
       "array([[[[157., 203., 214.],\n",
       "         [158., 204., 215.],\n",
       "         [159., 205., 216.],\n",
       "         ...,\n",
       "         [138., 197., 207.],\n",
       "         [138., 197., 207.],\n",
       "         [138., 197., 207.]],\n",
       "\n",
       "        [[156., 202., 213.],\n",
       "         [157., 203., 214.],\n",
       "         [158., 204., 215.],\n",
       "         ...,\n",
       "         [138., 197., 207.],\n",
       "         [138., 197., 207.],\n",
       "         [137., 196., 206.]],\n",
       "\n",
       "        [[155., 201., 212.],\n",
       "         [156., 202., 213.],\n",
       "         [157., 203., 214.],\n",
       "         ...,\n",
       "         [138., 197., 207.],\n",
       "         [138., 197., 207.],\n",
       "         [138., 197., 207.]],\n",
       "\n",
       "        ...,\n",
       "\n",
       "        [[ 78., 108., 119.],\n",
       "         [ 67., 100., 116.],\n",
       "         [ 51.,  91., 113.],\n",
       "         ...,\n",
       "         [ 66., 130., 150.],\n",
       "         [ 69., 128., 148.],\n",
       "         [ 66., 120., 140.]],\n",
       "\n",
       "        [[ 73., 106., 116.],\n",
       "         [ 65.,  99., 115.],\n",
       "         [ 47.,  87., 109.],\n",
       "         ...,\n",
       "         [ 61., 130., 152.],\n",
       "         [ 62., 126., 147.],\n",
       "         [ 62., 122., 142.]],\n",
       "\n",
       "        [[ 72., 107., 117.],\n",
       "         [ 62.,  98., 114.],\n",
       "         [ 47.,  85., 108.],\n",
       "         ...,\n",
       "         [ 59., 129., 152.],\n",
       "         [ 58., 125., 148.],\n",
       "         [ 59., 121., 142.]]],\n",
       "\n",
       "\n",
       "       [[[ 95., 115.,  88.],\n",
       "         [124., 148., 116.],\n",
       "         [ 78., 103.,  75.],\n",
       "         ...,\n",
       "         [104., 115., 114.],\n",
       "         [109., 121., 118.],\n",
       "         [116., 128., 126.]],\n",
       "\n",
       "        [[ 89., 113.,  81.],\n",
       "         [137., 162., 133.],\n",
       "         [ 74.,  98.,  74.],\n",
       "         ...,\n",
       "         [ 46.,  58.,  57.],\n",
       "         [ 17.,  29.,  26.],\n",
       "         [ 65.,  79.,  72.]],\n",
       "\n",
       "        [[ 92., 116.,  82.],\n",
       "         [142., 166., 137.],\n",
       "         [ 83., 104.,  84.],\n",
       "         ...,\n",
       "         [ 91., 110., 107.],\n",
       "         [ 74.,  93.,  89.],\n",
       "         [ 53.,  74.,  65.]],\n",
       "\n",
       "        ...,\n",
       "\n",
       "        [[137., 141., 146.],\n",
       "         [135., 141., 146.],\n",
       "         [167., 176., 180.],\n",
       "         ...,\n",
       "         [ 29.,  43.,  79.],\n",
       "         [ 32.,  45.,  81.],\n",
       "         [ 33.,  47.,  82.]],\n",
       "\n",
       "        [[161., 167., 172.],\n",
       "         [171., 180., 184.],\n",
       "         [ 39.,  49.,  52.],\n",
       "         ...,\n",
       "         [ 29.,  43.,  78.],\n",
       "         [ 35.,  49.,  84.],\n",
       "         [ 34.,  49.,  81.]],\n",
       "\n",
       "        [[142., 147., 152.],\n",
       "         [158., 165., 167.],\n",
       "         [124., 134., 136.],\n",
       "         ...,\n",
       "         [ 34.,  49.,  82.],\n",
       "         [ 32.,  47.,  80.],\n",
       "         [ 36.,  51.,  83.]]],\n",
       "\n",
       "\n",
       "       [[[ 55.,  66.,  65.],\n",
       "         [ 45.,  59.,  52.],\n",
       "         [ 42.,  60.,  46.],\n",
       "         ...,\n",
       "         [ 58.,  71.,  69.],\n",
       "         [ 45.,  59.,  49.],\n",
       "         [ 63.,  78.,  65.]],\n",
       "\n",
       "        [[ 55.,  72.,  67.],\n",
       "         [ 54.,  71.,  61.],\n",
       "         [ 45.,  64.,  47.],\n",
       "         ...,\n",
       "         [ 51.,  64.,  63.],\n",
       "         [ 37.,  49.,  45.],\n",
       "         [ 34.,  47.,  39.]],\n",
       "\n",
       "        [[ 63.,  85.,  76.],\n",
       "         [ 62.,  84.,  70.],\n",
       "         [ 50.,  70.,  52.],\n",
       "         ...,\n",
       "         [ 43.,  57.,  56.],\n",
       "         [ 51.,  63.,  64.],\n",
       "         [ 40.,  53.,  53.]],\n",
       "\n",
       "        ...,\n",
       "\n",
       "        [[ 29.,  66.,  48.],\n",
       "         [ 37.,  73.,  53.],\n",
       "         [ 46.,  78.,  60.],\n",
       "         ...,\n",
       "         [ 47.,  64.,  57.],\n",
       "         [ 58.,  72.,  65.],\n",
       "         [ 53.,  67.,  60.]],\n",
       "\n",
       "        [[ 40.,  75.,  61.],\n",
       "         [ 40.,  75.,  58.],\n",
       "         [ 31.,  62.,  47.],\n",
       "         ...,\n",
       "         [ 43.,  60.,  50.],\n",
       "         [ 50.,  67.,  55.],\n",
       "         [ 49.,  66.,  54.]],\n",
       "\n",
       "        [[ 35.,  63.,  57.],\n",
       "         [ 36.,  65.,  55.],\n",
       "         [ 19.,  49.,  38.],\n",
       "         ...,\n",
       "         [ 38.,  57.,  42.],\n",
       "         [ 52.,  70.,  56.],\n",
       "         [ 50.,  67.,  53.]]],\n",
       "\n",
       "\n",
       "       ...,\n",
       "\n",
       "\n",
       "       [[[ 37.,  42.,  37.],\n",
       "         [ 40.,  42.,  38.],\n",
       "         [ 42.,  42.,  38.],\n",
       "         ...,\n",
       "         [166., 196., 198.],\n",
       "         [161., 199., 201.],\n",
       "         [162., 200., 203.]],\n",
       "\n",
       "        [[ 41.,  45.,  40.],\n",
       "         [ 43.,  44.,  40.],\n",
       "         [ 45.,  45.,  40.],\n",
       "         ...,\n",
       "         [169., 199., 201.],\n",
       "         [164., 200., 203.],\n",
       "         [159., 197., 200.]],\n",
       "\n",
       "        [[ 43.,  47.,  42.],\n",
       "         [ 43.,  44.,  40.],\n",
       "         [ 44.,  44.,  39.],\n",
       "         ...,\n",
       "         [166., 193., 197.],\n",
       "         [163., 196., 200.],\n",
       "         [157., 194., 197.]],\n",
       "\n",
       "        ...,\n",
       "\n",
       "        [[ 28.,  27.,  29.],\n",
       "         [ 24.,  23.,  25.],\n",
       "         [ 19.,  19.,  21.],\n",
       "         ...,\n",
       "         [ 28.,  33.,  47.],\n",
       "         [ 20.,  26.,  39.],\n",
       "         [ 30.,  36.,  47.]],\n",
       "\n",
       "        [[ 32.,  31.,  33.],\n",
       "         [ 26.,  25.,  27.],\n",
       "         [ 22.,  21.,  23.],\n",
       "         ...,\n",
       "         [ 20.,  27.,  41.],\n",
       "         [ 20.,  28.,  40.],\n",
       "         [ 37.,  46.,  56.]],\n",
       "\n",
       "        [[ 29.,  28.,  30.],\n",
       "         [ 26.,  25.,  27.],\n",
       "         [ 23.,  22.,  24.],\n",
       "         ...,\n",
       "         [ 28.,  36.,  50.],\n",
       "         [ 31.,  40.,  52.],\n",
       "         [ 22.,  32.,  42.]]],\n",
       "\n",
       "\n",
       "       [[[254., 245., 211.],\n",
       "         [254., 245., 211.],\n",
       "         [254., 245., 211.],\n",
       "         ...,\n",
       "         [243., 196., 164.],\n",
       "         [244., 196., 164.],\n",
       "         [245., 196., 164.]],\n",
       "\n",
       "        [[254., 245., 211.],\n",
       "         [254., 245., 211.],\n",
       "         [254., 245., 211.],\n",
       "         ...,\n",
       "         [243., 198., 165.],\n",
       "         [243., 196., 164.],\n",
       "         [243., 196., 164.]],\n",
       "\n",
       "        [[254., 245., 211.],\n",
       "         [254., 245., 211.],\n",
       "         [254., 245., 211.],\n",
       "         ...,\n",
       "         [244., 199., 166.],\n",
       "         [244., 197., 165.],\n",
       "         [244., 197., 165.]],\n",
       "\n",
       "        ...,\n",
       "\n",
       "        [[119., 145., 135.],\n",
       "         [137., 164., 155.],\n",
       "         [124., 152., 145.],\n",
       "         ...,\n",
       "         [ 82., 121., 100.],\n",
       "         [ 40.,  97.,  76.],\n",
       "         [ 56., 122., 101.]],\n",
       "\n",
       "        [[123., 150., 140.],\n",
       "         [118., 146., 137.],\n",
       "         [103., 131., 124.],\n",
       "         ...,\n",
       "         [ 50.,  82.,  63.],\n",
       "         [ 43.,  91.,  71.],\n",
       "         [ 41.,  99.,  78.]],\n",
       "\n",
       "        [[125., 152., 142.],\n",
       "         [101., 129., 120.],\n",
       "         [ 85., 114., 107.],\n",
       "         ...,\n",
       "         [ 29.,  53.,  35.],\n",
       "         [ 28.,  67.,  48.],\n",
       "         [ 29.,  76.,  57.]]],\n",
       "\n",
       "\n",
       "       [[[ 27.,  98.,  74.],\n",
       "         [ 38.,  92.,  74.],\n",
       "         [ 43.,  92.,  77.],\n",
       "         ...,\n",
       "         [158., 234., 222.],\n",
       "         [160., 244., 236.],\n",
       "         [169., 228., 217.]],\n",
       "\n",
       "        [[ 19.,  93.,  66.],\n",
       "         [ 32.,  88.,  69.],\n",
       "         [ 36.,  86.,  74.],\n",
       "         ...,\n",
       "         [182., 212., 207.],\n",
       "         [159., 211., 211.],\n",
       "         [152., 227., 216.]],\n",
       "\n",
       "        [[ 31., 108.,  79.],\n",
       "         [ 28.,  86.,  67.],\n",
       "         [ 41.,  91.,  86.],\n",
       "         ...,\n",
       "         [210., 209., 214.],\n",
       "         [170., 188., 196.],\n",
       "         [170., 236., 227.]],\n",
       "\n",
       "        ...,\n",
       "\n",
       "        [[242., 249., 251.],\n",
       "         [212., 223., 227.],\n",
       "         [223., 235., 241.],\n",
       "         ...,\n",
       "         [112., 108., 120.],\n",
       "         [ 93.,  88., 104.],\n",
       "         [ 49.,  43.,  63.]],\n",
       "\n",
       "        [[239., 250., 251.],\n",
       "         [236., 248., 250.],\n",
       "         [220., 233., 244.],\n",
       "         ...,\n",
       "         [109., 102., 117.],\n",
       "         [ 72.,  65.,  80.],\n",
       "         [ 62.,  55.,  69.]],\n",
       "\n",
       "        [[208., 227., 231.],\n",
       "         [222., 242., 251.],\n",
       "         [182., 201., 224.],\n",
       "         ...,\n",
       "         [ 86.,  76.,  92.],\n",
       "         [ 53.,  44.,  57.],\n",
       "         [ 61.,  54.,  64.]]]], dtype=float32)"
      ]
     },
     "execution_count": 68,
     "metadata": {},
     "output_type": "execute_result"
    }
   ],
   "source": [
    "x_train"
   ]
  },
  {
   "cell_type": "code",
   "execution_count": 75,
   "id": "7a7cd84f",
   "metadata": {},
   "outputs": [],
   "source": []
  },
  {
   "cell_type": "code",
   "execution_count": 80,
   "id": "84ab61f5",
   "metadata": {},
   "outputs": [
    {
     "name": "stdout",
     "output_type": "stream",
     "text": [
      "Epoch 1/20\n",
      "1/1 - 5s - loss: 13.7655 - 5s/epoch - 5s/step\n",
      "Epoch 2/20\n",
      "1/1 - 1s - loss: 32351.3379 - 1s/epoch - 1s/step\n",
      "Epoch 3/20\n",
      "1/1 - 1s - loss: 10610.7061 - 1s/epoch - 1s/step\n",
      "Epoch 4/20\n",
      "1/1 - 1s - loss: 438.1552 - 1s/epoch - 1s/step\n",
      "Epoch 5/20\n",
      "1/1 - 1s - loss: 0.6932 - 1s/epoch - 1s/step\n",
      "Epoch 6/20\n",
      "1/1 - 1s - loss: 0.6932 - 1s/epoch - 1s/step\n",
      "Epoch 7/20\n",
      "1/1 - 1s - loss: 0.6932 - 1s/epoch - 1s/step\n",
      "Epoch 8/20\n",
      "1/1 - 1s - loss: 0.6932 - 1s/epoch - 1s/step\n",
      "Epoch 9/20\n",
      "1/1 - 1s - loss: 0.6932 - 1s/epoch - 1s/step\n",
      "Epoch 10/20\n",
      "1/1 - 1s - loss: 0.6932 - 1s/epoch - 1s/step\n",
      "Epoch 11/20\n",
      "1/1 - 1s - loss: 0.6932 - 1s/epoch - 1s/step\n",
      "Epoch 12/20\n",
      "1/1 - 1s - loss: 0.6933 - 1s/epoch - 1s/step\n",
      "Epoch 13/20\n",
      "1/1 - 1s - loss: 0.6933 - 1s/epoch - 1s/step\n",
      "Epoch 14/20\n",
      "1/1 - 1s - loss: 0.6933 - 1s/epoch - 1s/step\n",
      "Epoch 15/20\n",
      "1/1 - 1s - loss: 0.6933 - 1s/epoch - 1s/step\n",
      "Epoch 16/20\n",
      "1/1 - 1s - loss: 0.6933 - 1s/epoch - 1s/step\n",
      "Epoch 17/20\n",
      "1/1 - 1s - loss: 0.6933 - 1s/epoch - 1s/step\n",
      "Epoch 18/20\n",
      "1/1 - 1s - loss: 0.6933 - 1s/epoch - 1s/step\n",
      "Epoch 19/20\n",
      "1/1 - 1s - loss: 0.6933 - 1s/epoch - 1s/step\n",
      "Epoch 20/20\n",
      "1/1 - 1s - loss: 0.6933 - 1s/epoch - 1s/step\n"
     ]
    },
    {
     "data": {
      "text/plain": [
       "<keras.callbacks.History at 0x1d1397608b0>"
      ]
     },
     "execution_count": 80,
     "metadata": {},
     "output_type": "execute_result"
    }
   ],
   "source": [
    "model.fit(x_train,y_train,verbose=2,epochs=20)"
   ]
  },
  {
   "cell_type": "code",
   "execution_count": 83,
   "id": "eaa1e01e",
   "metadata": {},
   "outputs": [
    {
     "data": {
      "text/plain": [
       "0.6932681202888489"
      ]
     },
     "execution_count": 83,
     "metadata": {},
     "output_type": "execute_result"
    }
   ],
   "source": [
    "model.evaluate(x_train,y_train,verbose=0)"
   ]
  },
  {
   "cell_type": "code",
   "execution_count": 85,
   "id": "b01fa3e0",
   "metadata": {},
   "outputs": [],
   "source": [
    "preds=model.predict(x_test)"
   ]
  },
  {
   "cell_type": "code",
   "execution_count": 87,
   "id": "62679881",
   "metadata": {},
   "outputs": [
    {
     "name": "stdout",
     "output_type": "stream",
     "text": [
      "[[0 0]\n",
      " [5 3]]\n"
     ]
    }
   ],
   "source": [
    "from sklearn.metrics import classification_report,confusion_matrix\n",
    "print(confusion_matrix(preds,y_test))"
   ]
  }
 ],
 "metadata": {
  "kernelspec": {
   "display_name": "Python 3 (ipykernel)",
   "language": "python",
   "name": "python3"
  },
  "language_info": {
   "codemirror_mode": {
    "name": "ipython",
    "version": 3
   },
   "file_extension": ".py",
   "mimetype": "text/x-python",
   "name": "python",
   "nbconvert_exporter": "python",
   "pygments_lexer": "ipython3",
   "version": "3.10.9"
  }
 },
 "nbformat": 4,
 "nbformat_minor": 5
}
